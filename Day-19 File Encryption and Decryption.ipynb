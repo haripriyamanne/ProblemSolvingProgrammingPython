{
 "cells": [
  {
   "cell_type": "code",
   "execution_count": 3,
   "metadata": {},
   "outputs": [],
   "source": [
    "path='key.txt'\n",
    "\n",
    "def generatekey(path):\n",
    "    with open(path,'w') as f:\n",
    "        for i in range(10):\n",
    "            if i <6:\n",
    "                f.write(str(i)+' '+str(i+4)+'\\n')\n",
    "            else:\n",
    "                 f.write(str(i)+' '+str(i-6)+'\\n')\n",
    "    return\n",
    "generatekey(path)\n",
    "            "
   ]
  },
  {
   "cell_type": "code",
   "execution_count": 16,
   "metadata": {},
   "outputs": [
    {
     "name": "stdout",
     "output_type": "stream",
     "text": [
      "100\n",
      "20\n"
     ]
    }
   ],
   "source": [
    "class MyClass:\n",
    "    x=5\n",
    "    y=10\n",
    "\n",
    "p1=MyClass\n",
    "p1.x=100\n",
    "p1.y=20\n",
    "print(p1.x)\n",
    "print(p1.y)"
   ]
  },
  {
   "cell_type": "code",
   "execution_count": 17,
   "metadata": {},
   "outputs": [
    {
     "ename": "NameError",
     "evalue": "name '_init_' is not defined",
     "output_type": "error",
     "traceback": [
      "\u001b[1;31m---------------------------------------------------------------------------\u001b[0m",
      "\u001b[1;31mNameError\u001b[0m                                 Traceback (most recent call last)",
      "\u001b[1;32m<ipython-input-17-f141de33665e>\u001b[0m in \u001b[0;36m<module>\u001b[1;34m\u001b[0m\n\u001b[1;32m----> 1\u001b[1;33m \u001b[0m_init_\u001b[0m\u001b[1;33m(\u001b[0m\u001b[1;33m)\u001b[0m\u001b[1;33m\u001b[0m\u001b[1;33m\u001b[0m\u001b[0m\n\u001b[0m",
      "\u001b[1;31mNameError\u001b[0m: name '_init_' is not defined"
     ]
    }
   ],
   "source": [
    "__init__()"
   ]
  },
  {
   "cell_type": "code",
   "execution_count": 31,
   "metadata": {},
   "outputs": [
    {
     "name": "stdout",
     "output_type": "stream",
     "text": [
      "Hari Manne\n"
     ]
    }
   ],
   "source": [
    "class Emp:    \n",
    "    def __init__(s,fname,lname):\n",
    "        s.fname=fname\n",
    "        s.lname=lname\n",
    "    def printnames(s):\n",
    "        print(s.fname,s.lname)\n",
    "class Student(Emp):\n",
    "    pass\n",
    "x=Student(\"Hari\",\"Manne\")\n",
    "x.printnames()"
   ]
  },
  {
   "cell_type": "code",
   "execution_count": 35,
   "metadata": {},
   "outputs": [
    {
     "name": "stdout",
     "output_type": "stream",
     "text": [
      "<class 'list'>\n"
     ]
    },
    {
     "data": {
      "text/plain": [
       "'ford'"
      ]
     },
     "execution_count": 35,
     "metadata": {},
     "output_type": "execute_result"
    }
   ],
   "source": [
    "cars=['ford','alto','BMW']\n",
    "print(type(cars))\n",
    "cars[0]"
   ]
  },
  {
   "cell_type": "code",
   "execution_count": 4,
   "metadata": {},
   "outputs": [
    {
     "name": "stdout",
     "output_type": "stream",
     "text": [
      "enter the starting and end points to find the squares of \n",
      "10\n",
      "20\n",
      "the type of arrangement of the result is <class 'list'>\n",
      "the result of the squares from  10  to  20  are\n",
      " \n",
      "[100, 121, 144, 169, 196, 225, 256, 289, 324, 361, 400]\n"
     ]
    }
   ],
   "source": [
    "square= lambda a:a*a\n",
    "print(\"enter the starting and end points to find the squares of \")\n",
    "n1=int(input())\n",
    "n2=int(input())\n",
    "li=list(map(square,range(n1,n2+1)))\n",
    "print(\"the type of arrangement of the result is\",type(li))\n",
    "print(\"the result of the squares from \",n1, \" to \",n2, \" are\\n \")\n",
    "print( li)"
   ]
  },
  {
   "cell_type": "code",
   "execution_count": 7,
   "metadata": {},
   "outputs": [
    {
     "name": "stdout",
     "output_type": "stream",
     "text": [
      "enter the starting and end points to find the squares of \n",
      "10\n",
      "20\n",
      "the type of arrangement of the result is <class 'list'>\n",
      "the result of the squares from  10  to  20  are\n",
      " \n",
      "[100, 121, 144, 169, 196, 225, 256, 289, 324, 361, 400]\n"
     ]
    }
   ],
   "source": [
    "def square(a):\n",
    "    return a*a\n",
    "\n",
    "print(\"enter the starting and end points to find the squares of \")\n",
    "n1=int(input())\n",
    "n2=int(input())\n",
    "li=list(map(square,range(n1,n2+1)))\n",
    "print(\"the type of arrangement of the result is\",type(li))\n",
    "print(\"the result of the squares from \",n1, \" to \",n2, \" are\\n \")\n",
    "print( li)"
   ]
  },
  {
   "cell_type": "code",
   "execution_count": null,
   "metadata": {},
   "outputs": [],
   "source": []
  }
 ],
 "metadata": {
  "kernelspec": {
   "display_name": "Python 3",
   "language": "python",
   "name": "python3"
  },
  "language_info": {
   "codemirror_mode": {
    "name": "ipython",
    "version": 3
   },
   "file_extension": ".py",
   "mimetype": "text/x-python",
   "name": "python",
   "nbconvert_exporter": "python",
   "pygments_lexer": "ipython3",
   "version": "3.7.3"
  }
 },
 "nbformat": 4,
 "nbformat_minor": 2
}
