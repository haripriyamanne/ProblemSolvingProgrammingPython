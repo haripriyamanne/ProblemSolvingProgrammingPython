{
 "cells": [
  {
   "cell_type": "markdown",
   "metadata": {},
   "source": [
    "# Variables\n",
    "## Variables\n",
    "### Variables\n",
    "\n",
    "*This is Haripriya* --italic\n",
    "\n",
    "**This is Haripriya** --Bold\n",
    "* list1 --list unordered\n",
    "* list2\n",
    ">1.Hari --list with numbers\n",
    ">2.Latha\n",
    "\n",
    "<img src=\"bag.jpg\"> -- to display image\n",
    "\n",
    "<img src=\"https://cdn.pixabay.com/photo/2015/04/23/22/00/tree-736885__340.jpg\">\n",
    "\n",
    "<img src=\"https://images.unsplash.com/photo-1556103255-4443dbae8e5a?ixid=MnwxMjA3fDB8MHxzZWFyY2h8MXx8cGhvdG9ncmFwaGVyfGVufDB8fDB8fA%3D%3D&ixlib=rb-1.2.1&w=1000&q=80\">"
   ]
  },
  {
   "cell_type": "code",
   "execution_count": 1,
   "metadata": {},
   "outputs": [
    {
     "name": "stdout",
     "output_type": "stream",
     "text": [
      "123\n"
     ]
    }
   ],
   "source": [
    "a=123\n",
    "print(a)"
   ]
  },
  {
   "cell_type": "code",
   "execution_count": 4,
   "metadata": {},
   "outputs": [
    {
     "name": "stdout",
     "output_type": "stream",
     "text": [
      "I learn Python very Effectively Daily i will Practise\n",
      "I learn Python very Effectively Daily i will Practise\n",
      "I learn Python very Effectively Daily i will Practise\n",
      "I learn Python very Effectively Daily i will Practise\n",
      "I learn Python very Effectively Daily i will Practise\n",
      "I learn Python very Effectively Daily i will Practise\n"
     ]
    }
   ],
   "source": [
    "b=\"I learn Python very Effectively Daily i will Practise\"\n",
    "print(b)\n",
    "print(b)\n",
    "print(b)\n",
    "print(b)\n",
    "print(b)\n",
    "print(b)"
   ]
  },
  {
   "cell_type": "code",
   "execution_count": 5,
   "metadata": {},
   "outputs": [
    {
     "name": "stdout",
     "output_type": "stream",
     "text": [
      "2.34\n"
     ]
    }
   ],
   "source": [
    "f=2.34\n",
    "print(f)"
   ]
  },
  {
   "cell_type": "code",
   "execution_count": 7,
   "metadata": {},
   "outputs": [
    {
     "name": "stdout",
     "output_type": "stream",
     "text": [
      "Haipriya Manne\n"
     ]
    }
   ],
   "source": [
    "name='Haipriya Manne'\n",
    "print(name)"
   ]
  },
  {
   "cell_type": "code",
   "execution_count": 10,
   "metadata": {},
   "outputs": [],
   "source": [
    "namewithintitals='kerala'"
   ]
  },
  {
   "cell_type": "code",
   "execution_count": 20,
   "metadata": {},
   "outputs": [
    {
     "name": "stdout",
     "output_type": "stream",
     "text": [
      "Manne\n"
     ]
    }
   ],
   "source": [
    "_First_Name_=\"Manne\"\n",
    "print(_First_Name_)"
   ]
  },
  {
   "cell_type": "code",
   "execution_count": 22,
   "metadata": {},
   "outputs": [
    {
     "name": "stdout",
     "output_type": "stream",
     "text": [
      "harsha\n"
     ]
    }
   ],
   "source": [
    "_='harsha'\n",
    "print(_)"
   ]
  },
  {
   "cell_type": "code",
   "execution_count": 23,
   "metadata": {},
   "outputs": [
    {
     "name": "stdout",
     "output_type": "stream",
     "text": [
      "Hyderabad,Madhapur,Kavuri Hills\n"
     ]
    }
   ],
   "source": [
    "Address=\"Hyderabad,Madhapur,Kavuri Hills\"\n",
    "print(Address)"
   ]
  },
  {
   "cell_type": "code",
   "execution_count": 34,
   "metadata": {},
   "outputs": [
    {
     "name": "stdout",
     "output_type": "stream",
     "text": [
      "234\n",
      "234\n",
      "5\n",
      "10\n"
     ]
    }
   ],
   "source": [
    "n1=234 #single variable\n",
    "n4=n3=n2=n1 #multiple variable\n",
    "a,b,c=1,2,3 #multiple variable\n",
    "b=5\n",
    "a=10\n",
    "print(n4)\n",
    "print(n3)\n",
    "print(b)\n",
    "print(a)"
   ]
  },
  {
   "cell_type": "code",
   "execution_count": null,
   "metadata": {},
   "outputs": [],
   "source": [
    "q=1\n",
    "w=2\n",
    "e=3\n",
    "q=1\n",
    "print(q)"
   ]
  },
  {
   "cell_type": "code",
   "execution_count": null,
   "metadata": {},
   "outputs": [],
   "source": []
  }
 ],
 "metadata": {
  "kernelspec": {
   "display_name": "Python 3",
   "language": "python",
   "name": "python3"
  },
  "language_info": {
   "codemirror_mode": {
    "name": "ipython",
    "version": 3
   },
   "file_extension": ".py",
   "mimetype": "text/x-python",
   "name": "python",
   "nbconvert_exporter": "python",
   "pygments_lexer": "ipython3",
   "version": "3.7.3"
  }
 },
 "nbformat": 4,
 "nbformat_minor": 2
}
