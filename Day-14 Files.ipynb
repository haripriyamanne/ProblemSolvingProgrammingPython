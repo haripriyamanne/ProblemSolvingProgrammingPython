{
 "cells": [
  {
   "cell_type": "code",
   "execution_count": 9,
   "metadata": {},
   "outputs": [
    {
     "name": "stdout",
     "output_type": "stream",
     "text": [
      "Haripriya Iam a girl\n"
     ]
    }
   ],
   "source": [
    "f=open('data.txt')\n",
    "reading=f.read()\n",
    "print(reading)\n",
    "f.close()"
   ]
  },
  {
   "cell_type": "code",
   "execution_count": 18,
   "metadata": {},
   "outputs": [
    {
     "name": "stdout",
     "output_type": "stream",
     "text": [
      "sulthanaAyeshaAyesha\n",
      "Ayesha \n",
      "\n"
     ]
    }
   ],
   "source": [
    "with open('hari.txt','r')as file:\n",
    "    fr=file.read()\n",
    "    print(fr)\n",
    "    "
   ]
  },
  {
   "cell_type": "code",
   "execution_count": 11,
   "metadata": {},
   "outputs": [
    {
     "name": "stdout",
     "output_type": "stream",
     "text": [
      "8\n"
     ]
    }
   ],
   "source": [
    "with open('hari.txt','w')as file:\n",
    "    fr=file.write('sulthana')\n",
    "    print(fr)"
   ]
  },
  {
   "cell_type": "code",
   "execution_count": 17,
   "metadata": {},
   "outputs": [
    {
     "name": "stdout",
     "output_type": "stream",
     "text": [
      "8\n"
     ]
    }
   ],
   "source": [
    "with open('hari.txt','a')as file:\n",
    "    fr=file.write('Ayesha \\n')\n",
    "    print(fr)"
   ]
  },
  {
   "cell_type": "code",
   "execution_count": 21,
   "metadata": {},
   "outputs": [
    {
     "name": "stdout",
     "output_type": "stream",
     "text": [
      "31\n"
     ]
    }
   ],
   "source": [
    "with open('hari.txt','r')as file:\n",
    "    file.read()\n",
    "    print(file.tell())"
   ]
  },
  {
   "cell_type": "code",
   "execution_count": 38,
   "metadata": {},
   "outputs": [
    {
     "name": "stdout",
     "output_type": "stream",
     "text": [
      "\n",
      "priya\n",
      "\n"
     ]
    }
   ],
   "source": [
    "with open('hari.txt','r')as file:\n",
    "    file.read()\n",
    "    file.seek(5)\n",
    "    print(file.read(7))"
   ]
  },
  {
   "cell_type": "code",
   "execution_count": 34,
   "metadata": {},
   "outputs": [
    {
     "name": "stdout",
     "output_type": "stream",
     "text": [
      "['Hari', 'priya', 'naveen', 'manne']\n"
     ]
    }
   ],
   "source": [
    "with open('hari.txt','r')as file:\n",
    "    fr=file.read()\n",
    "    words=fr.split()\n",
    "    print(words)\n",
    "    "
   ]
  },
  {
   "cell_type": "code",
   "execution_count": 35,
   "metadata": {},
   "outputs": [
    {
     "name": "stdout",
     "output_type": "stream",
     "text": [
      "['Hari\\n', 'priya\\n', 'naveen\\n', 'manne\\n']\n"
     ]
    }
   ],
   "source": [
    "with open('hari.txt','r')as file:\n",
    "    fr=file.readlines()\n",
    "    print(fr)"
   ]
  },
  {
   "cell_type": "code",
   "execution_count": 37,
   "metadata": {},
   "outputs": [
    {
     "name": "stdout",
     "output_type": "stream",
     "text": [
      "Hari\n",
      " priya\n",
      " naveen\n",
      " manne\n",
      " "
     ]
    }
   ],
   "source": [
    "with open('hari.txt','r')as file:\n",
    "    fr=file.readlines()\n",
    "    for i in fr:\n",
    "        print(i,end=\" \")"
   ]
  },
  {
   "cell_type": "code",
   "execution_count": null,
   "metadata": {},
   "outputs": [],
   "source": []
  }
 ],
 "metadata": {
  "kernelspec": {
   "display_name": "Python 3",
   "language": "python",
   "name": "python3"
  },
  "language_info": {
   "codemirror_mode": {
    "name": "ipython",
    "version": 3
   },
   "file_extension": ".py",
   "mimetype": "text/x-python",
   "name": "python",
   "nbconvert_exporter": "python",
   "pygments_lexer": "ipython3",
   "version": "3.7.3"
  }
 },
 "nbformat": 4,
 "nbformat_minor": 2
}
